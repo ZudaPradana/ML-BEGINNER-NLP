{
  "nbformat": 4,
  "nbformat_minor": 0,
  "metadata": {
    "colab": {
      "name": "Submission NLP Dicoding.ipynb",
      "provenance": []
    },
    "kernelspec": {
      "name": "python3",
      "display_name": "Python 3"
    },
    "language_info": {
      "name": "python"
    }
  },
  "cells": [
    {
      "cell_type": "markdown",
      "metadata": {
        "id": "ZUwZoDr8TpkA"
      },
      "source": [
        "# Profile\n",
        "Nama : Zuda Pradana Putra\n",
        "Program : DTS FGA (Kominfo) "
      ]
    },
    {
      "cell_type": "code",
      "metadata": {
        "id": "tNmz1IWwTqQX",
        "colab": {
          "base_uri": "https://localhost:8080/"
        },
        "outputId": "264916b9-6e4b-4695-d87c-a602b3fe9b4f"
      },
      "source": [
        "import tensorflow as tf\n",
        "from tensorflow import keras\n",
        "from tensorflow.keras import layers\n",
        "import pandas as pd\n",
        "import numpy as np\n",
        "import os\n",
        "from google.colab import drive\n",
        "drive.mount('/content/gdrive') "
      ],
      "execution_count": 1,
      "outputs": [
        {
          "output_type": "stream",
          "text": [
            "Drive already mounted at /content/gdrive; to attempt to forcibly remount, call drive.mount(\"/content/gdrive\", force_remount=True).\n"
          ],
          "name": "stdout"
        }
      ]
    },
    {
      "cell_type": "code",
      "metadata": {
        "colab": {
          "base_uri": "https://localhost:8080/"
        },
        "id": "-NEQNfwQ6z9M",
        "outputId": "f7008cf5-c5b2-4671-a3a1-f526b326164d"
      },
      "source": [
        "os.listdir('gdrive/My Drive/DTS FGA (Kominfo)/Machine Learning/Pengembangan/dataset')"
      ],
      "execution_count": 2,
      "outputs": [
        {
          "output_type": "execute_result",
          "data": {
            "text/plain": [
              "['imdb_indonesian_movies_2.csv',\n",
              " 'citrus.csv',\n",
              " 'indonesian_movies.csv',\n",
              " 'Chessman-image-dataset',\n",
              " 'sentiment labelled sentences',\n",
              " 'indonesian-news-title.csv']"
            ]
          },
          "metadata": {
            "tags": []
          },
          "execution_count": 2
        }
      ]
    },
    {
      "cell_type": "code",
      "metadata": {
        "id": "AWKpox9a_sRY"
      },
      "source": [
        "df = pd.read_csv('gdrive/My Drive/DTS FGA (Kominfo)/Machine Learning/Pengembangan/dataset/indonesian-news-title.csv')"
      ],
      "execution_count": 3,
      "outputs": []
    },
    {
      "cell_type": "code",
      "metadata": {
        "colab": {
          "base_uri": "https://localhost:8080/",
          "height": 204
        },
        "id": "0d2gjtrL_5J5",
        "outputId": "1e7497b5-2434-4040-b760-920c5745b8fb"
      },
      "source": [
        "df.head()"
      ],
      "execution_count": 4,
      "outputs": [
        {
          "output_type": "execute_result",
          "data": {
            "text/html": [
              "<div>\n",
              "<style scoped>\n",
              "    .dataframe tbody tr th:only-of-type {\n",
              "        vertical-align: middle;\n",
              "    }\n",
              "\n",
              "    .dataframe tbody tr th {\n",
              "        vertical-align: top;\n",
              "    }\n",
              "\n",
              "    .dataframe thead th {\n",
              "        text-align: right;\n",
              "    }\n",
              "</style>\n",
              "<table border=\"1\" class=\"dataframe\">\n",
              "  <thead>\n",
              "    <tr style=\"text-align: right;\">\n",
              "      <th></th>\n",
              "      <th>date</th>\n",
              "      <th>url</th>\n",
              "      <th>title</th>\n",
              "      <th>category</th>\n",
              "    </tr>\n",
              "  </thead>\n",
              "  <tbody>\n",
              "    <tr>\n",
              "      <th>0</th>\n",
              "      <td>02/26/2020</td>\n",
              "      <td>https://finance.detik.com/berita-ekonomi-bisni...</td>\n",
              "      <td>Kemnaker Awasi TKA di Meikarta</td>\n",
              "      <td>finance</td>\n",
              "    </tr>\n",
              "    <tr>\n",
              "      <th>1</th>\n",
              "      <td>02/26/2020</td>\n",
              "      <td>https://finance.detik.com/berita-ekonomi-bisni...</td>\n",
              "      <td>BNI Digitalkan BNI Java Jazz 2020</td>\n",
              "      <td>finance</td>\n",
              "    </tr>\n",
              "    <tr>\n",
              "      <th>2</th>\n",
              "      <td>02/26/2020</td>\n",
              "      <td>https://finance.detik.com/berita-ekonomi-bisni...</td>\n",
              "      <td>Terbang ke Australia, Edhy Prabowo Mau Genjot ...</td>\n",
              "      <td>finance</td>\n",
              "    </tr>\n",
              "    <tr>\n",
              "      <th>3</th>\n",
              "      <td>02/26/2020</td>\n",
              "      <td>https://finance.detik.com/moneter/d-4916133/oj...</td>\n",
              "      <td>OJK Siapkan Stimulus Ekonomi Antisipasi Dampak...</td>\n",
              "      <td>finance</td>\n",
              "    </tr>\n",
              "    <tr>\n",
              "      <th>4</th>\n",
              "      <td>02/26/2020</td>\n",
              "      <td>https://finance.detik.com/berita-ekonomi-bisni...</td>\n",
              "      <td>Saran Buat Anies-RK yang Mangkir Rapat Banjir ...</td>\n",
              "      <td>finance</td>\n",
              "    </tr>\n",
              "  </tbody>\n",
              "</table>\n",
              "</div>"
            ],
            "text/plain": [
              "         date  ... category\n",
              "0  02/26/2020  ...  finance\n",
              "1  02/26/2020  ...  finance\n",
              "2  02/26/2020  ...  finance\n",
              "3  02/26/2020  ...  finance\n",
              "4  02/26/2020  ...  finance\n",
              "\n",
              "[5 rows x 4 columns]"
            ]
          },
          "metadata": {
            "tags": []
          },
          "execution_count": 4
        }
      ]
    },
    {
      "cell_type": "code",
      "metadata": {
        "colab": {
          "base_uri": "https://localhost:8080/",
          "height": 204
        },
        "id": "DKCM-lCV_5Mt",
        "outputId": "5f23d10b-bf64-4acf-bf8e-17c3eb507b66"
      },
      "source": [
        "# use columns\n",
        "df = df[['title', 'category']]\n",
        "df.head()"
      ],
      "execution_count": 5,
      "outputs": [
        {
          "output_type": "execute_result",
          "data": {
            "text/html": [
              "<div>\n",
              "<style scoped>\n",
              "    .dataframe tbody tr th:only-of-type {\n",
              "        vertical-align: middle;\n",
              "    }\n",
              "\n",
              "    .dataframe tbody tr th {\n",
              "        vertical-align: top;\n",
              "    }\n",
              "\n",
              "    .dataframe thead th {\n",
              "        text-align: right;\n",
              "    }\n",
              "</style>\n",
              "<table border=\"1\" class=\"dataframe\">\n",
              "  <thead>\n",
              "    <tr style=\"text-align: right;\">\n",
              "      <th></th>\n",
              "      <th>title</th>\n",
              "      <th>category</th>\n",
              "    </tr>\n",
              "  </thead>\n",
              "  <tbody>\n",
              "    <tr>\n",
              "      <th>0</th>\n",
              "      <td>Kemnaker Awasi TKA di Meikarta</td>\n",
              "      <td>finance</td>\n",
              "    </tr>\n",
              "    <tr>\n",
              "      <th>1</th>\n",
              "      <td>BNI Digitalkan BNI Java Jazz 2020</td>\n",
              "      <td>finance</td>\n",
              "    </tr>\n",
              "    <tr>\n",
              "      <th>2</th>\n",
              "      <td>Terbang ke Australia, Edhy Prabowo Mau Genjot ...</td>\n",
              "      <td>finance</td>\n",
              "    </tr>\n",
              "    <tr>\n",
              "      <th>3</th>\n",
              "      <td>OJK Siapkan Stimulus Ekonomi Antisipasi Dampak...</td>\n",
              "      <td>finance</td>\n",
              "    </tr>\n",
              "    <tr>\n",
              "      <th>4</th>\n",
              "      <td>Saran Buat Anies-RK yang Mangkir Rapat Banjir ...</td>\n",
              "      <td>finance</td>\n",
              "    </tr>\n",
              "  </tbody>\n",
              "</table>\n",
              "</div>"
            ],
            "text/plain": [
              "                                               title category\n",
              "0                     Kemnaker Awasi TKA di Meikarta  finance\n",
              "1                  BNI Digitalkan BNI Java Jazz 2020  finance\n",
              "2  Terbang ke Australia, Edhy Prabowo Mau Genjot ...  finance\n",
              "3  OJK Siapkan Stimulus Ekonomi Antisipasi Dampak...  finance\n",
              "4  Saran Buat Anies-RK yang Mangkir Rapat Banjir ...  finance"
            ]
          },
          "metadata": {
            "tags": []
          },
          "execution_count": 5
        }
      ]
    },
    {
      "cell_type": "code",
      "metadata": {
        "colab": {
          "base_uri": "https://localhost:8080/",
          "height": 492
        },
        "id": "r2ysQ6po_5Ox",
        "outputId": "4392ede6-831e-4a12-cd34-af761f168a4c"
      },
      "source": [
        "import matplotlib.pyplot as plt\n",
        "\n",
        "plt.title('Kind of Gendre')\n",
        "plt.xlabel('Category')\n",
        "plt.ylabel('Counts')\n",
        "df['category'].value_counts().plot(kind=\"bar\")\n",
        "plt.show\n",
        "print(df['category'].value_counts())"
      ],
      "execution_count": 6,
      "outputs": [
        {
          "output_type": "stream",
          "text": [
            "news       32360\n",
            "hot        16330\n",
            "finance    14168\n",
            "travel      6466\n",
            "inet        5640\n",
            "health      4919\n",
            "oto         4383\n",
            "food        4315\n",
            "sport       2436\n",
            "Name: category, dtype: int64\n"
          ],
          "name": "stdout"
        },
        {
          "output_type": "display_data",
          "data": {
            "image/png": "[encoded data removed]",
            "text/plain": [
              "<Figure size 432x288 with 1 Axes>"
            ]
          },
          "metadata": {
            "tags": [],
            "needs_background": "light"
          }
        }
      ]
    },
    {
      "cell_type": "code",
      "metadata": {
        "colab": {
          "base_uri": "https://localhost:8080/",
          "height": 419
        },
        "id": "2xVEJ_IG_5SY",
        "outputId": "6d6acc04-c4ab-491c-e345-e220a2012ede"
      },
      "source": [
        "# one hot encoding data kategorikal\n",
        "category = pd.get_dummies(df.category)\n",
        "df = pd.concat([df, category], axis=1)\n",
        "df = df.drop(columns='category')\n",
        "df"
      ],
      "execution_count": 7,
      "outputs": [
        {
          "output_type": "execute_result",
          "data": {
            "text/html": [
              "<div>\n",
              "<style scoped>\n",
              "    .dataframe tbody tr th:only-of-type {\n",
              "        vertical-align: middle;\n",
              "    }\n",
              "\n",
              "    .dataframe tbody tr th {\n",
              "        vertical-align: top;\n",
              "    }\n",
              "\n",
              "    .dataframe thead th {\n",
              "        text-align: right;\n",
              "    }\n",
              "</style>\n",
              "<table border=\"1\" class=\"dataframe\">\n",
              "  <thead>\n",
              "    <tr style=\"text-align: right;\">\n",
              "      <th></th>\n",
              "      <th>title</th>\n",
              "      <th>finance</th>\n",
              "      <th>food</th>\n",
              "      <th>health</th>\n",
              "      <th>hot</th>\n",
              "      <th>inet</th>\n",
              "      <th>news</th>\n",
              "      <th>oto</th>\n",
              "      <th>sport</th>\n",
              "      <th>travel</th>\n",
              "    </tr>\n",
              "  </thead>\n",
              "  <tbody>\n",
              "    <tr>\n",
              "      <th>0</th>\n",
              "      <td>Kemnaker Awasi TKA di Meikarta</td>\n",
              "      <td>1</td>\n",
              "      <td>0</td>\n",
              "      <td>0</td>\n",
              "      <td>0</td>\n",
              "      <td>0</td>\n",
              "      <td>0</td>\n",
              "      <td>0</td>\n",
              "      <td>0</td>\n",
              "      <td>0</td>\n",
              "    </tr>\n",
              "    <tr>\n",
              "      <th>1</th>\n",
              "      <td>BNI Digitalkan BNI Java Jazz 2020</td>\n",
              "      <td>1</td>\n",
              "      <td>0</td>\n",
              "      <td>0</td>\n",
              "      <td>0</td>\n",
              "      <td>0</td>\n",
              "      <td>0</td>\n",
              "      <td>0</td>\n",
              "      <td>0</td>\n",
              "      <td>0</td>\n",
              "    </tr>\n",
              "    <tr>\n",
              "      <th>2</th>\n",
              "      <td>Terbang ke Australia, Edhy Prabowo Mau Genjot ...</td>\n",
              "      <td>1</td>\n",
              "      <td>0</td>\n",
              "      <td>0</td>\n",
              "      <td>0</td>\n",
              "      <td>0</td>\n",
              "      <td>0</td>\n",
              "      <td>0</td>\n",
              "      <td>0</td>\n",
              "      <td>0</td>\n",
              "    </tr>\n",
              "    <tr>\n",
              "      <th>3</th>\n",
              "      <td>OJK Siapkan Stimulus Ekonomi Antisipasi Dampak...</td>\n",
              "      <td>1</td>\n",
              "      <td>0</td>\n",
              "      <td>0</td>\n",
              "      <td>0</td>\n",
              "      <td>0</td>\n",
              "      <td>0</td>\n",
              "      <td>0</td>\n",
              "      <td>0</td>\n",
              "      <td>0</td>\n",
              "    </tr>\n",
              "    <tr>\n",
              "      <th>4</th>\n",
              "      <td>Saran Buat Anies-RK yang Mangkir Rapat Banjir ...</td>\n",
              "      <td>1</td>\n",
              "      <td>0</td>\n",
              "      <td>0</td>\n",
              "      <td>0</td>\n",
              "      <td>0</td>\n",
              "      <td>0</td>\n",
              "      <td>0</td>\n",
              "      <td>0</td>\n",
              "      <td>0</td>\n",
              "    </tr>\n",
              "    <tr>\n",
              "      <th>...</th>\n",
              "      <td>...</td>\n",
              "      <td>...</td>\n",
              "      <td>...</td>\n",
              "      <td>...</td>\n",
              "      <td>...</td>\n",
              "      <td>...</td>\n",
              "      <td>...</td>\n",
              "      <td>...</td>\n",
              "      <td>...</td>\n",
              "      <td>...</td>\n",
              "    </tr>\n",
              "    <tr>\n",
              "      <th>91012</th>\n",
              "      <td>Ketumpahan Air Panas di Pesawat, Kamu Bisa Tun...</td>\n",
              "      <td>0</td>\n",
              "      <td>0</td>\n",
              "      <td>0</td>\n",
              "      <td>0</td>\n",
              "      <td>0</td>\n",
              "      <td>0</td>\n",
              "      <td>0</td>\n",
              "      <td>0</td>\n",
              "      <td>1</td>\n",
              "    </tr>\n",
              "    <tr>\n",
              "      <th>91013</th>\n",
              "      <td>Foto: Bali &amp; 9 Destinasi Paling Instagramable ...</td>\n",
              "      <td>0</td>\n",
              "      <td>0</td>\n",
              "      <td>0</td>\n",
              "      <td>0</td>\n",
              "      <td>0</td>\n",
              "      <td>0</td>\n",
              "      <td>0</td>\n",
              "      <td>0</td>\n",
              "      <td>1</td>\n",
              "    </tr>\n",
              "    <tr>\n",
              "      <th>91014</th>\n",
              "      <td>Game Bikin Turis Ini Liburan ke Jepang untuk.....</td>\n",
              "      <td>0</td>\n",
              "      <td>0</td>\n",
              "      <td>0</td>\n",
              "      <td>0</td>\n",
              "      <td>0</td>\n",
              "      <td>0</td>\n",
              "      <td>0</td>\n",
              "      <td>0</td>\n",
              "      <td>1</td>\n",
              "    </tr>\n",
              "    <tr>\n",
              "      <th>91015</th>\n",
              "      <td>Sekeluarga Didepak dari Pesawat, Maskapai Bila...</td>\n",
              "      <td>0</td>\n",
              "      <td>0</td>\n",
              "      <td>0</td>\n",
              "      <td>0</td>\n",
              "      <td>0</td>\n",
              "      <td>0</td>\n",
              "      <td>0</td>\n",
              "      <td>0</td>\n",
              "      <td>1</td>\n",
              "    </tr>\n",
              "    <tr>\n",
              "      <th>91016</th>\n",
              "      <td>Kapal Raib di Segitiga Bermuda, Nyaris Seabad ...</td>\n",
              "      <td>0</td>\n",
              "      <td>0</td>\n",
              "      <td>0</td>\n",
              "      <td>0</td>\n",
              "      <td>0</td>\n",
              "      <td>0</td>\n",
              "      <td>0</td>\n",
              "      <td>0</td>\n",
              "      <td>1</td>\n",
              "    </tr>\n",
              "  </tbody>\n",
              "</table>\n",
              "<p>91017 rows × 10 columns</p>\n",
              "</div>"
            ],
            "text/plain": [
              "                                                   title  ...  travel\n",
              "0                         Kemnaker Awasi TKA di Meikarta  ...       0\n",
              "1                      BNI Digitalkan BNI Java Jazz 2020  ...       0\n",
              "2      Terbang ke Australia, Edhy Prabowo Mau Genjot ...  ...       0\n",
              "3      OJK Siapkan Stimulus Ekonomi Antisipasi Dampak...  ...       0\n",
              "4      Saran Buat Anies-RK yang Mangkir Rapat Banjir ...  ...       0\n",
              "...                                                  ...  ...     ...\n",
              "91012  Ketumpahan Air Panas di Pesawat, Kamu Bisa Tun...  ...       1\n",
              "91013  Foto: Bali & 9 Destinasi Paling Instagramable ...  ...       1\n",
              "91014  Game Bikin Turis Ini Liburan ke Jepang untuk.....  ...       1\n",
              "91015  Sekeluarga Didepak dari Pesawat, Maskapai Bila...  ...       1\n",
              "91016  Kapal Raib di Segitiga Bermuda, Nyaris Seabad ...  ...       1\n",
              "\n",
              "[91017 rows x 10 columns]"
            ]
          },
          "metadata": {
            "tags": []
          },
          "execution_count": 7
        }
      ]
    },
    {
      "cell_type": "code",
      "metadata": {
        "colab": {
          "base_uri": "https://localhost:8080/"
        },
        "id": "LkZlRwP3C3hb",
        "outputId": "ae9dd76f-7c6f-4f64-e618-7a471c3c88f1"
      },
      "source": [
        "df.info()"
      ],
      "execution_count": 8,
      "outputs": [
        {
          "output_type": "stream",
          "text": [
            "<class 'pandas.core.frame.DataFrame'>\n",
            "RangeIndex: 91017 entries, 0 to 91016\n",
            "Data columns (total 10 columns):\n",
            " #   Column   Non-Null Count  Dtype \n",
            "---  ------   --------------  ----- \n",
            " 0   title    91017 non-null  object\n",
            " 1   finance  91017 non-null  uint8 \n",
            " 2   food     91017 non-null  uint8 \n",
            " 3   health   91017 non-null  uint8 \n",
            " 4   hot      91017 non-null  uint8 \n",
            " 5   inet     91017 non-null  uint8 \n",
            " 6   news     91017 non-null  uint8 \n",
            " 7   oto      91017 non-null  uint8 \n",
            " 8   sport    91017 non-null  uint8 \n",
            " 9   travel   91017 non-null  uint8 \n",
            "dtypes: object(1), uint8(9)\n",
            "memory usage: 1.5+ MB\n"
          ],
          "name": "stdout"
        }
      ]
    },
    {
      "cell_type": "code",
      "metadata": {
        "id": "5Aysee-2DwJ7"
      },
      "source": [
        "# delete columns title if has values NaN or Blank\n",
        "df.dropna(subset=['title'], axis = 0, inplace=True)"
      ],
      "execution_count": 9,
      "outputs": []
    },
    {
      "cell_type": "code",
      "metadata": {
        "colab": {
          "base_uri": "https://localhost:8080/"
        },
        "id": "jLMgOQ6wD9gF",
        "outputId": "837e26ac-1753-45de-b5f2-8e4d6a176e17"
      },
      "source": [
        "df.shape"
      ],
      "execution_count": 10,
      "outputs": [
        {
          "output_type": "execute_result",
          "data": {
            "text/plain": [
              "(91017, 10)"
            ]
          },
          "metadata": {
            "tags": []
          },
          "execution_count": 10
        }
      ]
    },
    {
      "cell_type": "code",
      "metadata": {
        "id": "ufCp9Lc7Epyu",
        "colab": {
          "base_uri": "https://localhost:8080/",
          "height": 419
        },
        "outputId": "6dbfcc4b-00e2-4f72-f16f-e1675e4a3bdf"
      },
      "source": [
        "title = df['title'].values\n",
        "label = df[['finance', 'food', 'health', 'hot', 'inet' , 'news', 'oto', 'sport', 'travel']].values\n",
        "df"
      ],
      "execution_count": 11,
      "outputs": [
        {
          "output_type": "execute_result",
          "data": {
            "text/html": [
              "<div>\n",
              "<style scoped>\n",
              "    .dataframe tbody tr th:only-of-type {\n",
              "        vertical-align: middle;\n",
              "    }\n",
              "\n",
              "    .dataframe tbody tr th {\n",
              "        vertical-align: top;\n",
              "    }\n",
              "\n",
              "    .dataframe thead th {\n",
              "        text-align: right;\n",
              "    }\n",
              "</style>\n",
              "<table border=\"1\" class=\"dataframe\">\n",
              "  <thead>\n",
              "    <tr style=\"text-align: right;\">\n",
              "      <th></th>\n",
              "      <th>title</th>\n",
              "      <th>finance</th>\n",
              "      <th>food</th>\n",
              "      <th>health</th>\n",
              "      <th>hot</th>\n",
              "      <th>inet</th>\n",
              "      <th>news</th>\n",
              "      <th>oto</th>\n",
              "      <th>sport</th>\n",
              "      <th>travel</th>\n",
              "    </tr>\n",
              "  </thead>\n",
              "  <tbody>\n",
              "    <tr>\n",
              "      <th>0</th>\n",
              "      <td>Kemnaker Awasi TKA di Meikarta</td>\n",
              "      <td>1</td>\n",
              "      <td>0</td>\n",
              "      <td>0</td>\n",
              "      <td>0</td>\n",
              "      <td>0</td>\n",
              "      <td>0</td>\n",
              "      <td>0</td>\n",
              "      <td>0</td>\n",
              "      <td>0</td>\n",
              "    </tr>\n",
              "    <tr>\n",
              "      <th>1</th>\n",
              "      <td>BNI Digitalkan BNI Java Jazz 2020</td>\n",
              "      <td>1</td>\n",
              "      <td>0</td>\n",
              "      <td>0</td>\n",
              "      <td>0</td>\n",
              "      <td>0</td>\n",
              "      <td>0</td>\n",
              "      <td>0</td>\n",
              "      <td>0</td>\n",
              "      <td>0</td>\n",
              "    </tr>\n",
              "    <tr>\n",
              "      <th>2</th>\n",
              "      <td>Terbang ke Australia, Edhy Prabowo Mau Genjot ...</td>\n",
              "      <td>1</td>\n",
              "      <td>0</td>\n",
              "      <td>0</td>\n",
              "      <td>0</td>\n",
              "      <td>0</td>\n",
              "      <td>0</td>\n",
              "      <td>0</td>\n",
              "      <td>0</td>\n",
              "      <td>0</td>\n",
              "    </tr>\n",
              "    <tr>\n",
              "      <th>3</th>\n",
              "      <td>OJK Siapkan Stimulus Ekonomi Antisipasi Dampak...</td>\n",
              "      <td>1</td>\n",
              "      <td>0</td>\n",
              "      <td>0</td>\n",
              "      <td>0</td>\n",
              "      <td>0</td>\n",
              "      <td>0</td>\n",
              "      <td>0</td>\n",
              "      <td>0</td>\n",
              "      <td>0</td>\n",
              "    </tr>\n",
              "    <tr>\n",
              "      <th>4</th>\n",
              "      <td>Saran Buat Anies-RK yang Mangkir Rapat Banjir ...</td>\n",
              "      <td>1</td>\n",
              "      <td>0</td>\n",
              "      <td>0</td>\n",
              "      <td>0</td>\n",
              "      <td>0</td>\n",
              "      <td>0</td>\n",
              "      <td>0</td>\n",
              "      <td>0</td>\n",
              "      <td>0</td>\n",
              "    </tr>\n",
              "    <tr>\n",
              "      <th>...</th>\n",
              "      <td>...</td>\n",
              "      <td>...</td>\n",
              "      <td>...</td>\n",
              "      <td>...</td>\n",
              "      <td>...</td>\n",
              "      <td>...</td>\n",
              "      <td>...</td>\n",
              "      <td>...</td>\n",
              "      <td>...</td>\n",
              "      <td>...</td>\n",
              "    </tr>\n",
              "    <tr>\n",
              "      <th>91012</th>\n",
              "      <td>Ketumpahan Air Panas di Pesawat, Kamu Bisa Tun...</td>\n",
              "      <td>0</td>\n",
              "      <td>0</td>\n",
              "      <td>0</td>\n",
              "      <td>0</td>\n",
              "      <td>0</td>\n",
              "      <td>0</td>\n",
              "      <td>0</td>\n",
              "      <td>0</td>\n",
              "      <td>1</td>\n",
              "    </tr>\n",
              "    <tr>\n",
              "      <th>91013</th>\n",
              "      <td>Foto: Bali &amp; 9 Destinasi Paling Instagramable ...</td>\n",
              "      <td>0</td>\n",
              "      <td>0</td>\n",
              "      <td>0</td>\n",
              "      <td>0</td>\n",
              "      <td>0</td>\n",
              "      <td>0</td>\n",
              "      <td>0</td>\n",
              "      <td>0</td>\n",
              "      <td>1</td>\n",
              "    </tr>\n",
              "    <tr>\n",
              "      <th>91014</th>\n",
              "      <td>Game Bikin Turis Ini Liburan ke Jepang untuk.....</td>\n",
              "      <td>0</td>\n",
              "      <td>0</td>\n",
              "      <td>0</td>\n",
              "      <td>0</td>\n",
              "      <td>0</td>\n",
              "      <td>0</td>\n",
              "      <td>0</td>\n",
              "      <td>0</td>\n",
              "      <td>1</td>\n",
              "    </tr>\n",
              "    <tr>\n",
              "      <th>91015</th>\n",
              "      <td>Sekeluarga Didepak dari Pesawat, Maskapai Bila...</td>\n",
              "      <td>0</td>\n",
              "      <td>0</td>\n",
              "      <td>0</td>\n",
              "      <td>0</td>\n",
              "      <td>0</td>\n",
              "      <td>0</td>\n",
              "      <td>0</td>\n",
              "      <td>0</td>\n",
              "      <td>1</td>\n",
              "    </tr>\n",
              "    <tr>\n",
              "      <th>91016</th>\n",
              "      <td>Kapal Raib di Segitiga Bermuda, Nyaris Seabad ...</td>\n",
              "      <td>0</td>\n",
              "      <td>0</td>\n",
              "      <td>0</td>\n",
              "      <td>0</td>\n",
              "      <td>0</td>\n",
              "      <td>0</td>\n",
              "      <td>0</td>\n",
              "      <td>0</td>\n",
              "      <td>1</td>\n",
              "    </tr>\n",
              "  </tbody>\n",
              "</table>\n",
              "<p>91017 rows × 10 columns</p>\n",
              "</div>"
            ],
            "text/plain": [
              "                                                   title  ...  travel\n",
              "0                         Kemnaker Awasi TKA di Meikarta  ...       0\n",
              "1                      BNI Digitalkan BNI Java Jazz 2020  ...       0\n",
              "2      Terbang ke Australia, Edhy Prabowo Mau Genjot ...  ...       0\n",
              "3      OJK Siapkan Stimulus Ekonomi Antisipasi Dampak...  ...       0\n",
              "4      Saran Buat Anies-RK yang Mangkir Rapat Banjir ...  ...       0\n",
              "...                                                  ...  ...     ...\n",
              "91012  Ketumpahan Air Panas di Pesawat, Kamu Bisa Tun...  ...       1\n",
              "91013  Foto: Bali & 9 Destinasi Paling Instagramable ...  ...       1\n",
              "91014  Game Bikin Turis Ini Liburan ke Jepang untuk.....  ...       1\n",
              "91015  Sekeluarga Didepak dari Pesawat, Maskapai Bila...  ...       1\n",
              "91016  Kapal Raib di Segitiga Bermuda, Nyaris Seabad ...  ...       1\n",
              "\n",
              "[91017 rows x 10 columns]"
            ]
          },
          "metadata": {
            "tags": []
          },
          "execution_count": 11
        }
      ]
    },
    {
      "cell_type": "code",
      "metadata": {
        "id": "4_7-PQNBIcrR"
      },
      "source": [
        "from sklearn.model_selection import train_test_split\n",
        "X_train, X_test, y_train, y_test = train_test_split(title, label, test_size=0.2)"
      ],
      "execution_count": 12,
      "outputs": []
    },
    {
      "cell_type": "code",
      "metadata": {
        "colab": {
          "base_uri": "https://localhost:8080/"
        },
        "id": "tu2k-_FtWuIc",
        "outputId": "3df16dc4-42fe-4d28-ab7b-b4634cb4b8f1"
      },
      "source": [
        "print(\"X_train_shape : \",X_train.shape)\n",
        "print(\"X_test_shape : \",X_test.shape)\n",
        "print(\"y_train_shape : \",y_train.shape)\n",
        "print(\"y_test_shape : \",y_test.shape)"
      ],
      "execution_count": 13,
      "outputs": [
        {
          "output_type": "stream",
          "text": [
            "X_train_shape :  (72813,)\n",
            "X_test_shape :  (18204,)\n",
            "y_train_shape :  (72813, 9)\n",
            "y_test_shape :  (18204, 9)\n"
          ],
          "name": "stdout"
        }
      ]
    },
    {
      "cell_type": "code",
      "metadata": {
        "id": "xHG1lWpaJeDy"
      },
      "source": [
        "from tensorflow.keras.preprocessing.text import Tokenizer\n",
        "from tensorflow.keras.preprocessing.sequence import pad_sequences\n",
        " \n",
        "tokenizer = Tokenizer(num_words=100000, oov_token='x')\n",
        "tokenizer.fit_on_texts(X_train) \n",
        "tokenizer.fit_on_texts(X_test)\n",
        " \n",
        "seq_train = tokenizer.texts_to_sequences(X_train)\n",
        "seq_test = tokenizer.texts_to_sequences(X_test)\n",
        " \n",
        "padded_train = pad_sequences(seq_train) \n",
        "padded_test = pad_sequences(seq_test)"
      ],
      "execution_count": 14,
      "outputs": []
    },
    {
      "cell_type": "code",
      "metadata": {
        "id": "626nEyG0Kds7"
      },
      "source": [
        "import tensorflow as tf\n",
        "model = tf.keras.Sequential([\n",
        "    tf.keras.layers.Embedding(input_dim=100000, output_dim=16),\n",
        "    tf.keras.layers.LSTM(64),\n",
        "    tf.keras.layers.Dropout(0.5),\n",
        "    tf.keras.layers.Dense(128, activation='relu'),\n",
        "    tf.keras.layers.Dense(64, activation='relu'),\n",
        "    tf.keras.layers.Dense(9, activation='softmax') #count of label\n",
        "])"
      ],
      "execution_count": 15,
      "outputs": []
    },
    {
      "cell_type": "code",
      "metadata": {
        "id": "w8iTG8--brvf"
      },
      "source": [
        "model.compile(\n",
        "    loss='categorical_crossentropy',\n",
        "    optimizer='adam',\n",
        "    metrics=['accuracy'])"
      ],
      "execution_count": 16,
      "outputs": []
    },
    {
      "cell_type": "code",
      "metadata": {
        "id": "HJhIzuf6Ua0r"
      },
      "source": [
        "# epochs akan berhenti jika mendapat akurasi yang telah ditentukan\n",
        "class myCallback(tf.keras.callbacks.Callback):\n",
        "  def on_epoch_end(self, epoch, logs={}):\n",
        "    if(logs.get('accuracy')>0.95):\n",
        "      print(\"\\nAkurasi telah mencapai >95%!\")\n",
        "      self.model.stop_training = True\n",
        "callbacks = myCallback() "
      ],
      "execution_count": 17,
      "outputs": []
    },
    {
      "cell_type": "code",
      "metadata": {
        "colab": {
          "base_uri": "https://localhost:8080/"
        },
        "id": "Csh_dcJKN1sa",
        "outputId": "7744e1a4-6613-4c7d-8dbe-74a79ec29fd6"
      },
      "source": [
        "history = model.fit(padded_train, \n",
        "                    y_train, \n",
        "                    epochs= 30, \n",
        "                    validation_data=(padded_test, y_test),\n",
        "                    verbose=2,\n",
        "                    callbacks = [callbacks])"
      ],
      "execution_count": 18,
      "outputs": [
        {
          "output_type": "stream",
          "text": [
            "Epoch 1/30\n",
            "2276/2276 - 72s - loss: 1.0533 - accuracy: 0.6306 - val_loss: 0.7212 - val_accuracy: 0.7641\n",
            "Epoch 2/30\n",
            "2276/2276 - 68s - loss: 0.5094 - accuracy: 0.8379 - val_loss: 0.5181 - val_accuracy: 0.8350\n",
            "Epoch 3/30\n",
            "2276/2276 - 66s - loss: 0.3380 - accuracy: 0.8946 - val_loss: 0.5138 - val_accuracy: 0.8406\n",
            "Epoch 4/30\n",
            "2276/2276 - 66s - loss: 0.2534 - accuracy: 0.9211 - val_loss: 0.5197 - val_accuracy: 0.8461\n",
            "Epoch 5/30\n",
            "2276/2276 - 67s - loss: 0.2010 - accuracy: 0.9381 - val_loss: 0.5467 - val_accuracy: 0.8441\n",
            "Epoch 6/30\n",
            "2276/2276 - 66s - loss: 0.1577 - accuracy: 0.9497 - val_loss: 0.5606 - val_accuracy: 0.8496\n",
            "Epoch 7/30\n",
            "2276/2276 - 66s - loss: 0.1322 - accuracy: 0.9575 - val_loss: 0.6283 - val_accuracy: 0.8495\n",
            "\n",
            "Akurasi telah mencapai >95%!\n"
          ],
          "name": "stdout"
        }
      ]
    },
    {
      "cell_type": "code",
      "metadata": {
        "colab": {
          "base_uri": "https://localhost:8080/",
          "height": 295
        },
        "id": "qsxoQQlc99Xn",
        "outputId": "97586e8f-d29c-4aab-9740-965320fe6155"
      },
      "source": [
        "# memvisualisasikan Plot Loss dari Trained Model\n",
        "# Plot ini sangat berguna untuk melihat proses keseluruhan pembelajaran model seiring waktu\n",
        "import matplotlib.pyplot as plt\n",
        "plt.plot(history.history['loss']) #Objek history menampung informasi dari akurasi dan loss model pada setiap epoch di proses pelatihan.\n",
        "plt.title('Model loss')\n",
        "plt.ylabel('Loss')\n",
        "plt.xlabel('Epoch')\n",
        "plt.legend(['Train'], loc='upper right')\n",
        "plt.show()"
      ],
      "execution_count": 19,
      "outputs": [
        {
          "output_type": "display_data",
          "data": {
            "image/png": "[encoded data removed]",
            "text/plain": [
              "<Figure size 432x288 with 1 Axes>"
            ]
          },
          "metadata": {
            "tags": [],
            "needs_background": "light"
          }
        }
      ]
    },
    {
      "cell_type": "code",
      "metadata": {
        "colab": {
          "base_uri": "https://localhost:8080/",
          "height": 295
        },
        "id": "j1druwQ_VFVp",
        "outputId": "a0b6f831-778a-4996-9b3a-af3f480a1921"
      },
      "source": [
        "# memvisualisasikan Plot accuracy dari Trained Model\n",
        "plt.plot(history.history['accuracy'])\n",
        "plt.title('Model accuracy')\n",
        "plt.ylabel('Accuracy')\n",
        "plt.xlabel('Epoch')\n",
        "plt.legend(['Train'], loc='lower right')\n",
        "plt.show()  "
      ],
      "execution_count": 20,
      "outputs": [
        {
          "output_type": "display_data",
          "data": {
            "image/png": "[encoded data removed]",
            "text/plain": [
              "<Figure size 432x288 with 1 Axes>"
            ]
          },
          "metadata": {
            "tags": [],
            "needs_background": "light"
          }
        }
      ]
    },
    {
      "cell_type": "code",
      "metadata": {
        "id": "KugdoE6IViN6"
      },
      "source": [
        ""
      ],
      "execution_count": 20,
      "outputs": []
    }
  ]
}